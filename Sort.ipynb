{
 "cells": [
  {
   "cell_type": "markdown",
   "metadata": {},
   "source": [
    "<H1>\n",
    "1. N개의 수가 주어졌을 때, 이를 오름차순으로 정렬하는 프로그램을 작성하시오.\n",
    "</H1>\n",
    "<H1>\n",
    "첫째 줄에 수의 개수 N(1 ≤ N ≤ 1,000)이 주어진다.\n",
    "</H1>\n",
    "<H1>\n",
    "둘째 줄부터 N개의 줄에는 숫자가 주어진다. \n",
    "</H1>\n",
    "<H1>\n",
    "이 수는 절댓값이 1,000보다 작거나 같은 정수이다. 수는 중복되지 않는다.\n",
    "</H1>"
   ]
  },
  {
   "cell_type": "code",
   "execution_count": 5,
   "metadata": {},
   "outputs": [
    {
     "name": "stdout",
     "output_type": "stream",
     "text": [
      "5\n",
      "5\n",
      "2\n",
      "3\n",
      "4\n",
      "1\n",
      "1\n",
      "2\n",
      "3\n",
      "4\n",
      "5\n"
     ]
    }
   ],
   "source": [
    "N = int(input(\"\"))\n",
    "\n",
    "number = []\n",
    "\n",
    "for i in range(N):\n",
    "    n = int(input(\"\"))\n",
    "    number.append(n)\n",
    "    \n",
    "number.sort()\n",
    "\n",
    "for j in number:\n",
    "    print(j)"
   ]
  },
  {
   "cell_type": "markdown",
   "metadata": {},
   "source": [
    "<H1>\n",
    "2. N개의 수가 주어졌을 때, 이를 오름차순으로 정렬하는 프로그램을 작성하시오.\n",
    "</H1>\n",
    "<H1>\n",
    "첫째 줄에 수의 개수 N(1 ≤ N ≤ 1,000)이 주어진다.\n",
    "</H1>\n",
    "<H1>\n",
    "둘째 줄부터 N개의 줄에는 숫자가 주어진다. \n",
    "</H1>\n",
    "<H1>\n",
    "이 수는 절댓값이 1,000보다 작거나 같은 정수이다. 수는 중복되지 않는다.\n",
    "</H1>"
   ]
  },
  {
   "cell_type": "code",
   "execution_count": 6,
   "metadata": {},
   "outputs": [
    {
     "name": "stdout",
     "output_type": "stream",
     "text": [
      "5\n",
      "5\n",
      "4\n",
      "3\n",
      "2\n",
      "1\n",
      "1\n",
      "2\n",
      "3\n",
      "4\n",
      "5\n"
     ]
    }
   ],
   "source": [
    "N = int(input())\n",
    "result = []\n",
    "for i in range(N):\n",
    "    result.append(int(input()))\n",
    "for n in sorted(result):\n",
    "    print(n)"
   ]
  },
  {
   "cell_type": "markdown",
   "metadata": {},
   "source": [
    "<H1>\n",
    "3. N개의 수가 주어졌을 때, 이를 오름차순으로 정렬하는 프로그램을 작성하시오.\n",
    "</H1>\n",
    "<H1>\n",
    "첫째 줄에 수의 개수 N(1 ≤ N ≤ 1,000)이 주어진다.\n",
    "</H1>\n",
    "<H1>\n",
    "둘째 줄부터 N개의 줄에는 숫자가 주어진다. \n",
    "</H1>\n",
    "<H1>\n",
    "이 수는 절댓값이 1,000보다 작거나 같은 정수이다. 수는 중복되지 않는다.\n",
    "</H1>"
   ]
  },
  {
   "cell_type": "code",
   "execution_count": 4,
   "metadata": {},
   "outputs": [
    {
     "name": "stdout",
     "output_type": "stream",
     "text": [
      "10\n",
      "5\n",
      "2\n",
      "3\n",
      "1\n",
      "4\n",
      "2\n",
      "3\n",
      "5\n",
      "1\n",
      "7\n",
      "1\n",
      "1\n",
      "2\n",
      "2\n",
      "3\n",
      "3\n",
      "4\n",
      "5\n",
      "5\n",
      "7\n"
     ]
    }
   ],
   "source": [
    "N = int(input())\n",
    "\n",
    "result = []\n",
    "\n",
    "for i in range(N):\n",
    "    result.append(int(input()))\n",
    "    \n",
    "number = sorted(result)\n",
    "for n in number:\n",
    "    print(n)"
   ]
  },
  {
   "cell_type": "markdown",
   "metadata": {},
   "source": [
    "<H1>\n",
    "4. 수를 처리하는 것은 통계학에서 상당히 중요한 일이다. \n",
    "</H1>\n",
    "<H1>\n",
    "통계학에서 N개의 수를 대표하는 기본 통계값에는 다음과 같은 것들이 있다. \n",
    "</H1>\n",
    "<H1>  \n",
    "단, N은 홀수라고 가정하자.\n",
    "</H1>\n",
    "<H1>\n",
    "1.산술평균 : N개의 수들의 합을 N으로 나눈 값\n",
    "</H1>\n",
    "<H1>\n",
    "2.중앙값 : N개의 수들을 증가하는 순서로 나열했을 경우 그 중앙에 위치하는 값\n",
    "</H1>\n",
    "<H1>\n",
    "3.최빈값 : N개의 수들 중 가장 많이 나타나는 값\n",
    "</H1>\n",
    "<H1>\n",
    "4.범위 : N개의 수들 중 최댓값과 최솟값의 차이\n",
    "</H1>\n",
    "<H1>\n",
    "N개의 수가 주어졌을 때, 네 가지 기본 통계값을 구하는 프로그램을 작성하시오.\n",
    "</H1>\n",
    "<H1>\n",
    "첫째 줄에 수의 개수 N(1 ≤ N ≤ 500,000)이 주어진다.\n",
    "</H1>\n",
    "<H1>    \n",
    "그 다음 N개의 줄에는 정수들이 주어진다.\n",
    "</H1>\n",
    "<H1>    \n",
    "입력되는 정수의 절댓값은 4,000을 넘지 않는다."
   ]
  },
  {
   "cell_type": "code",
   "execution_count": 27,
   "metadata": {},
   "outputs": [
    {
     "name": "stdout",
     "output_type": "stream",
     "text": [
      "5\n",
      "1\n",
      "3\n",
      "8\n",
      "2\n",
      "-2\n",
      "2\n",
      "2\n",
      "1\n",
      "10\n"
     ]
    }
   ],
   "source": [
    "import statistics\n",
    "\n",
    "N = int(input(\"\"))\n",
    "\n",
    "number = []\n",
    "\n",
    "for i in range(N):\n",
    "    n = int(input(\"\"))\n",
    "    number.append(n)\n",
    "\n",
    "number.sort()\n",
    "\n",
    "s1 = sum(number)/len(number)\n",
    "\n",
    "if(s1 - int(s1) >= 0.5):\n",
    "    s1 = int(s1) + 1\n",
    "else:\n",
    "    s1 = int(s1)\n",
    "\n",
    "s2 = statistics.median(number)\n",
    "\n",
    "s4 = max(number) - min(number)\n",
    "\n",
    "num = number\n",
    "num.remove(min(num))\n",
    "\n",
    "s3 = min(num)\n",
    "\n",
    "print(s1)\n",
    "print(s2)\n",
    "print(s3)\n",
    "print(s4)"
   ]
  }
 ],
 "metadata": {
  "kernelspec": {
   "display_name": "Python 3",
   "language": "python",
   "name": "python3"
  },
  "language_info": {
   "codemirror_mode": {
    "name": "ipython",
    "version": 3
   },
   "file_extension": ".py",
   "mimetype": "text/x-python",
   "name": "python",
   "nbconvert_exporter": "python",
   "pygments_lexer": "ipython3",
   "version": "3.7.4"
  }
 },
 "nbformat": 4,
 "nbformat_minor": 2
}
