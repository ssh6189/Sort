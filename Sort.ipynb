{
 "cells": [
  {
   "cell_type": "markdown",
   "metadata": {},
   "source": [
    "<H1>\n",
    "1. N개의 수가 주어졌을 때, 이를 오름차순으로 정렬하는 프로그램을 작성하시오.\n",
    "</H1>\n",
    "<H1>\n",
    "첫째 줄에 수의 개수 N(1 ≤ N ≤ 1,000)이 주어진다.\n",
    "</H1>\n",
    "<H1>\n",
    "둘째 줄부터 N개의 줄에는 숫자가 주어진다. \n",
    "</H1>\n",
    "<H1>\n",
    "이 수는 절댓값이 1,000보다 작거나 같은 정수이다. 수는 중복되지 않는다.\n",
    "</H1>"
   ]
  },
  {
   "cell_type": "code",
   "execution_count": 5,
   "metadata": {},
   "outputs": [
    {
     "name": "stdout",
     "output_type": "stream",
     "text": [
      "5\n",
      "5\n",
      "2\n",
      "3\n",
      "4\n",
      "1\n",
      "1\n",
      "2\n",
      "3\n",
      "4\n",
      "5\n"
     ]
    }
   ],
   "source": [
    "N = int(input(\"\"))\n",
    "\n",
    "number = []\n",
    "\n",
    "for i in range(N):\n",
    "    n = int(input(\"\"))\n",
    "    number.append(n)\n",
    "    \n",
    "number.sort()\n",
    "\n",
    "for j in number:\n",
    "    print(j)"
   ]
  },
  {
   "cell_type": "markdown",
   "metadata": {},
   "source": [
    "<H1>\n",
    "2. N개의 수가 주어졌을 때, 이를 오름차순으로 정렬하는 프로그램을 작성하시오.\n",
    "</H1>\n",
    "<H1>\n",
    "첫째 줄에 수의 개수 N(1 ≤ N ≤ 1,000)이 주어진다.\n",
    "</H1>\n",
    "<H1>\n",
    "둘째 줄부터 N개의 줄에는 숫자가 주어진다. \n",
    "</H1>\n",
    "<H1>\n",
    "이 수는 절댓값이 1,000보다 작거나 같은 정수이다. 수는 중복되지 않는다.\n",
    "</H1>"
   ]
  },
  {
   "cell_type": "code",
   "execution_count": 6,
   "metadata": {},
   "outputs": [
    {
     "name": "stdout",
     "output_type": "stream",
     "text": [
      "5\n",
      "5\n",
      "4\n",
      "3\n",
      "2\n",
      "1\n",
      "1\n",
      "2\n",
      "3\n",
      "4\n",
      "5\n"
     ]
    }
   ],
   "source": [
    "N = int(input())\n",
    "result = []\n",
    "for i in range(N):\n",
    "    result.append(int(input()))\n",
    "for n in sorted(result):\n",
    "    print(n)"
   ]
  },
  {
   "cell_type": "markdown",
   "metadata": {},
   "source": [
    "<H1>\n",
    "3. N개의 수가 주어졌을 때, 이를 오름차순으로 정렬하는 프로그램을 작성하시오.\n",
    "</H1>\n",
    "<H1>\n",
    "첫째 줄에 수의 개수 N(1 ≤ N ≤ 1,000)이 주어진다.\n",
    "</H1>\n",
    "<H1>\n",
    "둘째 줄부터 N개의 줄에는 숫자가 주어진다. \n",
    "</H1>\n",
    "<H1>\n",
    "이 수는 절댓값이 1,000보다 작거나 같은 정수이다. 수는 중복되지 않는다.\n",
    "</H1>"
   ]
  },
  {
   "cell_type": "code",
   "execution_count": 4,
   "metadata": {},
   "outputs": [
    {
     "name": "stdout",
     "output_type": "stream",
     "text": [
      "10\n",
      "5\n",
      "2\n",
      "3\n",
      "1\n",
      "4\n",
      "2\n",
      "3\n",
      "5\n",
      "1\n",
      "7\n",
      "1\n",
      "1\n",
      "2\n",
      "2\n",
      "3\n",
      "3\n",
      "4\n",
      "5\n",
      "5\n",
      "7\n"
     ]
    }
   ],
   "source": [
    "N = int(input())\n",
    "\n",
    "result = []\n",
    "\n",
    "for i in range(N):\n",
    "    result.append(int(input()))\n",
    "    \n",
    "number = sorted(result)\n",
    "for n in number:\n",
    "    print(n)"
   ]
  },
  {
   "cell_type": "markdown",
   "metadata": {},
   "source": [
    "<H1>\n",
    "4. 수를 처리하는 것은 통계학에서 상당히 중요한 일이다. \n",
    "</H1>\n",
    "<H1>\n",
    "통계학에서 N개의 수를 대표하는 기본 통계값에는 다음과 같은 것들이 있다. \n",
    "</H1>\n",
    "<H1>  \n",
    "단, N은 홀수라고 가정하자.\n",
    "</H1>\n",
    "<H1>\n",
    "1.산술평균 : N개의 수들의 합을 N으로 나눈 값\n",
    "</H1>\n",
    "<H1>\n",
    "2.중앙값 : N개의 수들을 증가하는 순서로 나열했을 경우 그 중앙에 위치하는 값\n",
    "</H1>\n",
    "<H1>\n",
    "3.최빈값 : N개의 수들 중 가장 많이 나타나는 값\n",
    "</H1>\n",
    "<H1>\n",
    "4.범위 : N개의 수들 중 최댓값과 최솟값의 차이\n",
    "</H1>\n",
    "<H1>\n",
    "N개의 수가 주어졌을 때, 네 가지 기본 통계값을 구하는 프로그램을 작성하시오.\n",
    "</H1>\n",
    "<H1>\n",
    "첫째 줄에 수의 개수 N(1 ≤ N ≤ 500,000)이 주어진다.\n",
    "</H1>\n",
    "<H1>    \n",
    "그 다음 N개의 줄에는 정수들이 주어진다.\n",
    "</H1>\n",
    "<H1>    \n",
    "입력되는 정수의 절댓값은 4,000을 넘지 않는다."
   ]
  },
  {
   "cell_type": "code",
   "execution_count": 27,
   "metadata": {},
   "outputs": [
    {
     "name": "stdout",
     "output_type": "stream",
     "text": [
      "5\n",
      "1\n",
      "3\n",
      "8\n",
      "2\n",
      "-2\n",
      "2\n",
      "2\n",
      "1\n",
      "10\n"
     ]
    }
   ],
   "source": [
    "import statistics\n",
    "\n",
    "N = int(input(\"\"))\n",
    "\n",
    "number = []\n",
    "\n",
    "for i in range(N):\n",
    "    n = int(input(\"\"))\n",
    "    number.append(n)\n",
    "\n",
    "number.sort()\n",
    "\n",
    "s1 = sum(number)/len(number)\n",
    "\n",
    "if(s1 - int(s1) >= 0.5):\n",
    "    s1 = int(s1) + 1\n",
    "else:\n",
    "    s1 = int(s1)\n",
    "\n",
    "s2 = statistics.median(number)\n",
    "\n",
    "s4 = max(number) - min(number)\n",
    "\n",
    "num = number\n",
    "num.remove(min(num))\n",
    "\n",
    "s3 = min(num)\n",
    "\n",
    "print(s1)\n",
    "print(s2)\n",
    "print(s3)\n",
    "print(s4)"
   ]
  },
  {
   "cell_type": "markdown",
   "metadata": {},
   "source": [
    "<H1>\n",
    "5. 배열을 정렬하는 것은 쉽다.\n",
    "</H1>\n",
    "<H1>\n",
    "수가 주어지면, 그 수의 각 자리수를 내림차순으로 정렬해보자.\n",
    "</H1>\n",
    "<H1>\n",
    "첫째 줄에 정렬하고자하는 수 N이 주어진다.\n",
    "</H1>\n",
    "<H1>    \n",
    "N은 1,000,000,000보다 작거나 같은 자연수이다.\n",
    "</H1>\n",
    "<H1>\n",
    "첫째 줄에 자리수를 내림차순으로 정렬한 수를 출력한다.\n",
    "</H1>"
   ]
  },
  {
   "cell_type": "code",
   "execution_count": 14,
   "metadata": {},
   "outputs": [
    {
     "name": "stdout",
     "output_type": "stream",
     "text": [
      "2143\n",
      "4321\n"
     ]
    }
   ],
   "source": [
    "N = str(input(\"\"))\n",
    "\n",
    "number= []\n",
    "\n",
    "s = ''\n",
    "\n",
    "for i in N:\n",
    "    number.append(i)\n",
    "    \n",
    "number.sort(reverse = True)\n",
    "\n",
    "for j in number:\n",
    "    s = s + j\n",
    "    \n",
    "s = int(s)\n",
    "\n",
    "print(s)"
   ]
  },
  {
   "cell_type": "markdown",
   "metadata": {},
   "source": [
    "<H1>\n",
    "6. 2차원 평면 위의 점 N개가 주어진다. \n",
    "</H1>\n",
    "<H1>\n",
    "좌표를 x좌표가 증가하는 순으로, \n",
    "x좌표가 같으면 y좌표가 증가하는 순서로\n",
    "</H1>\n",
    "<H1>    \n",
    "정렬한 다음 출력하는 프로그램을 작성하시오.\n",
    "</H1>\n",
    "<H1>\n",
    "첫째 줄에 점의 개수 N (1 ≤ N ≤ 100,000)이 주어진다.\n",
    "</H1>\n",
    "<H1>\n",
    "둘째 줄부터 N개의 줄에는 i번점의 위치 xi와 yi가 주어진다.\n",
    "</H1>\n",
    "<H1>    \n",
    "(-100,000 ≤ xi, yi ≤ 100,000) 좌표는 항상 정수이고, 위치가 같은 두 점은 없다.\n",
    "</H1>"
   ]
  },
  {
   "cell_type": "code",
   "execution_count": 22,
   "metadata": {},
   "outputs": [
    {
     "name": "stdout",
     "output_type": "stream",
     "text": [
      "5\n",
      "3 4\n",
      "1 1\n",
      "1 -1\n",
      "2 2\n",
      "3 3\n",
      "1 -1\n",
      "1 1\n",
      "2 2\n",
      "3 3\n",
      "3 4\n"
     ]
    }
   ],
   "source": [
    "N = int(input(\"\"))\n",
    "\n",
    "location = []\n",
    "\n",
    "for i in range(N):\n",
    "    xi, yi = map(int, input().split(\" \"))\n",
    "    q = [xi, yi]\n",
    "    location.append(q)\n",
    "    \n",
    "location.sort()   \n",
    "\n",
    "for j in range(N):\n",
    "    print(location[j][0], location[j][1])"
   ]
  },
  {
   "cell_type": "markdown",
   "metadata": {},
   "source": [
    "<H1>\n",
    "7. 2차원 평면 위의 점 N개가 주어진다. \n",
    "</H1>\n",
    "<H1>\n",
    "좌표를 y좌표가 증가하는 순으로, \n",
    "y좌표가 같으면 x좌표가 증가하는 순서로\n",
    "</H1>\n",
    "<H1>    \n",
    "정렬한 다음 출력하는 프로그램을 작성하시오.\n",
    "</H1>\n",
    "<H1>\n",
    "첫째 줄에 점의 개수 N (1 ≤ N ≤ 100,000)이 주어진다.\n",
    "</H1>\n",
    "<H1>\n",
    "둘째 줄부터 N개의 줄에는 i번점의 위치 xi와 yi가 주어진다.\n",
    "</H1>\n",
    "<H1>    \n",
    "(-100,000 ≤ xi, yi ≤ 100,000) 좌표는 항상 정수이고, 위치가 같은 두 점은 없다.\n",
    "</H1>"
   ]
  },
  {
   "cell_type": "code",
   "execution_count": 1,
   "metadata": {},
   "outputs": [
    {
     "name": "stdout",
     "output_type": "stream",
     "text": [
      "5\n",
      "0 4\n",
      "1 2\n",
      "1 -1\n",
      "2 2\n",
      "3 3\n",
      "1 -1\n",
      "1 2\n",
      "2 2\n",
      "3 3\n",
      "0 4\n"
     ]
    }
   ],
   "source": [
    "N = int(input(\"\"))\n",
    "\n",
    "location = []\n",
    "\n",
    "for i in range(N):\n",
    "    xi, yi = map(int, input().split(\" \"))\n",
    "    q = [yi, xi]\n",
    "    location.append(q)\n",
    "    \n",
    "location.sort()   \n",
    "\n",
    "for j in range(N):\n",
    "    print(location[j][1], location[j][0])"
   ]
  },
  {
   "cell_type": "markdown",
   "metadata": {},
   "source": [
    "<H1>\n",
    "8. 알파벳 소문자로 이루어진 N개의 단어가 들어오면\n",
    "</H1>\n",
    "<H1>    \n",
    "아래와 같은 조건에 따라 정렬하는 프로그램을 작성하시오.\n",
    "</H1>\n",
    "<H1>\n",
    "1.길이가 짧은 것부터\n",
    "</H1>\n",
    "<H1>\n",
    "2.길이가 같으면 사전 순으로\n",
    "</H1>\n",
    "<H1>\n",
    "첫째 줄에 단어의 개수 N이 주어진다. \n",
    "</H1>\n",
    "<H1>    \n",
    "(1≤N≤20,000) 둘째 줄부터 N개의 줄에 걸쳐\n",
    "</H1>\n",
    "<H1>    \n",
    "알파벳 소문자로 이루어진 단어가 한 줄에 하나씩 주어진다. \n",
    "</H1>\n",
    "<H1>    \n",
    "주어지는 문자열의 길이는 50을 넘지 않는다.\n",
    "</H1>"
   ]
  },
  {
   "cell_type": "code",
   "execution_count": 12,
   "metadata": {},
   "outputs": [
    {
     "name": "stdout",
     "output_type": "stream",
     "text": [
      "13\n",
      "but\n",
      "i\n",
      "wont\n",
      "hesitate\n",
      "no\n",
      "more\n",
      "no\n",
      "more\n",
      "it\n",
      "cannot\n",
      "wait\n",
      "im\n",
      "yours\n",
      "i\n",
      "im\n",
      "it\n",
      "no\n",
      "but\n",
      "more\n",
      "wait\n",
      "wont\n",
      "yours\n",
      "cannot\n",
      "hesitate\n"
     ]
    }
   ],
   "source": [
    "N = int(input(\"\"))\n",
    "\n",
    "word = []\n",
    "word_list = []\n",
    "\n",
    "for i in range(N):\n",
    "    w = str(input(\"\"))\n",
    "    word.append(w)\n",
    "\n",
    "for j in word:\n",
    "    word_list.append((len(j), j)) \n",
    "    \n",
    "word_list = list(set(word_list))      \n",
    "word_list.sort()                      \n",
    "\n",
    "for len_word, w in word_list:\n",
    "    print(w)"
   ]
  }
 ],
 "metadata": {
  "kernelspec": {
   "display_name": "Python 3",
   "language": "python",
   "name": "python3"
  },
  "language_info": {
   "codemirror_mode": {
    "name": "ipython",
    "version": 3
   },
   "file_extension": ".py",
   "mimetype": "text/x-python",
   "name": "python",
   "nbconvert_exporter": "python",
   "pygments_lexer": "ipython3",
   "version": "3.7.4"
  }
 },
 "nbformat": 4,
 "nbformat_minor": 2
}
